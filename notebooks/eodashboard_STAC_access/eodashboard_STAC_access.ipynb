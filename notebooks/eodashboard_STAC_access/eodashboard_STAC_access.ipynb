{
 "cells": [
  {
   "cell_type": "markdown",
   "id": "33ed5d82",
   "metadata": {},
   "source": [
    "---\n",
    "image: https://raw.githubusercontent.com/eurodatacube/eodash-assets/refs/heads/main/collections/SMOS_OS/SMOS_OS.png\n",
    "---"
   ]
  },
  {
   "cell_type": "markdown",
   "id": "975524b2",
   "metadata": {},
   "source": [
    "## EODashboard STAC access examples\n",
    "\n",
    "eodashboard.org uses a standard static STAC catalog\n",
    "\n",
    "This example notebook outlines\n",
    "- accessing eodashboard STAC catalog\n",
    "- discovery of the collections\n",
    "- checking individual metadata fields\n",
    "- browsing through items inside linked GeoParquet storage\n",
    "- showing linked XYZ service on an interactive map for a single date\n",
    "- time series analysis using referenced statistics endpoint"
   ]
  },
  {
   "cell_type": "markdown",
   "id": "b34e4240",
   "metadata": {},
   "source": [
    "## Step 1: Accessing the EODashboard STAC Catalog\n",
    "\n",
    "The eodashboard.org platform provides a publicly accessible STAC catalog.  \n",
    "In this step, we use the `pystac` library to load the root catalog from the provided URL to explore provided collections.\n",
    "\n",
    "This root catalog serves as the entry point and provides metadata and links to collections and subcatalogs.\n",
    "We’ll inspect the catalog description, and check how many child collections are directly linked.\n",
    "\n",
    "### Structure\n",
    "eodash organizes its data in a two-level STAC structure:\n",
    "\n",
    "- The top level consists of **\"indicators\"**, represented as STAC **collections**. Each indicator describes a derived environmental variable or theme (e.g. \"SMOS Ocean Salinity\").\n",
    "- Each indicator then groups one or more **sub-collections**, represented also as STAC **collections**. They group the actual datasets contributing to the indicator and each subcollection is shown as separate layer in the eodash client interface."
   ]
  },
  {
   "cell_type": "code",
   "execution_count": 1,
   "id": "4d54e58a",
   "metadata": {},
   "outputs": [
    {
     "name": "stdout",
     "output_type": "stream",
     "text": [
      "Catalog ID: trilateral\n",
      "Description: A Tri-Agency Dashboard by NASA, ESA, JAXA\n",
      "Number of child indicators: 127\n"
     ]
    }
   ],
   "source": [
    "# Step 1: Access the EODashboard STAC Catalog via PySTAC\n",
    "\n",
    "from pystac import Catalog\n",
    "\n",
    "# URL to the root STAC catalog (adjust if necessary)\n",
    "catalog_url = \"https://ESA-eodashboards.github.io/eodashboard-catalog/trilateral/catalog.json\"\n",
    "\n",
    "# Load the catalog\n",
    "catalog = Catalog.from_file(catalog_url)\n",
    "\n",
    "# Print basic information\n",
    "print(f\"Catalog ID: {catalog.id}\")\n",
    "print(f\"Description: {catalog.description}\")\n",
    "indicators = list(catalog.get_children())\n",
    "\n",
    "print(f\"Number of child indicators: {len(indicators)}\")"
   ]
  },
  {
   "cell_type": "markdown",
   "id": "8b876205",
   "metadata": {},
   "source": []
  },
  {
   "cell_type": "markdown",
   "id": "2e86c8ff",
   "metadata": {},
   "source": [
    "## Step 2: Discovering and Filtering Indicators\n",
    "\n",
    "The STAC catalog contains over 100 indicators.  \n",
    "In this step, we retrieve all indicators and filter them to include only those relevant to **Soil Moisture and Ocean Salinity satellite (SMOS)**.\n",
    "\n",
    "We look for the keyword \"SMOS\" in the collection's `satellite` metadata field.  \n",
    "This helps us isolate datasets derived from or related to ESA's SMOS mission."
   ]
  },
  {
   "cell_type": "code",
   "execution_count": 2,
   "id": "c65e3e36",
   "metadata": {},
   "outputs": [
    {
     "name": "stdout",
     "output_type": "stream",
     "text": [
      "Found 14 SMOS-related collections (strict filter):\n",
      "RECCAP2_1_AGC_LVOD_amazonia_methods_mean_crop: Methods mean aboveground carbon (CCI RECCAP2)\n",
      "RECCAP2_2_AGC_LVOD_amazonia_smooth_max_crop: Smooth max aboveground carbon (CCI RECCAP2)\n",
      "RECCAP2_3_AGC_LVOD_amazonia_smooth_mean_crop: Smooth mean aboveground carbon (CCI RECCAP2)\n",
      "RECCAP2_4_AGC_LVOD_amazonia_trend_mean_crop: Trend mean aboveground carbon (CCI RECCAP2)\n",
      "RECCAP2_5_SF_biomass_growth: Secondary forest growth (CCI RECCAP2)\n",
      "RECCAP2_6_deforested_biomass: Deforestation (CCI RECCAP2)\n",
      "RECCAP2_7_degraded_biomass: Degradation (CCI RECCAP2)\n",
      "RECCAP2_8_edge_biomass_change: Edge biomass change (CCI RECCAP2)\n",
      "RECCAP2_9_intact_biomass_change_methods_mean: Methods mean intact biomass change (CCI RECCAP2)\n",
      "RECCAP2_10_intact_biomass_change_smooth_max: Smooth max intact biomass change (CCI RECCAP2)\n",
      "RECCAP2_11_intact_biomass_change_smooth_mean: Smooth mean intact biomass change (CCI RECCAP2)\n",
      "RECCAP2_12_intact_biomass_change_trend_mean: Mean intact biomass change trend (CCI RECCAP2)\n",
      "smos_ocean_salinity: SMOS Ocean Salinity\n",
      "smos_soil_moisture: SMOS Soil Moisture\n"
     ]
    }
   ],
   "source": [
    "# Step 2: Filter indicators related to SMOS\n",
    "\n",
    "# Filter indicators that mention 'SMOS' in satellite property\n",
    "smos_indicators = [\n",
    "    ind for ind in indicators\n",
    "    if \"satellite\" in ind.extra_fields and \"SMOS\" in [s.upper() for s in ind.extra_fields[\"satellite\"]]\n",
    "]\n",
    "\n",
    "# Show results\n",
    "print(f\"Found {len(smos_indicators)} SMOS-related collections (strict filter):\")\n",
    "for ind in smos_indicators:\n",
    "    print(f\"{ind.id}: {ind.title}\")"
   ]
  },
  {
   "cell_type": "markdown",
   "id": "4a7507f1",
   "metadata": {},
   "source": [
    "## Step 3: Checking Individual Metadata Fields\n",
    "\n",
    "Now that we’ve identified SMOS-related indicators, we’ll examine one specific indicator in detail:  \n",
    "**`smos_ocean_salinity`**, which shows the sea surface salinity globally acquired by the SMOS mission.\n",
    "\n",
    "We’ll print out the main metadata fields, including:\n",
    "- Basic identification (`title`, `description`)\n",
    "- Spatial and temporal extent\n",
    "- Licensing and providers\n",
    "- Custom fields such as `satellite`, `region`, and `data_source` if available"
   ]
  },
  {
   "cell_type": "code",
   "execution_count": 3,
   "id": "7f718955",
   "metadata": {},
   "outputs": [
    {
     "name": "stdout",
     "output_type": "stream",
     "text": [
      "Title: SMOS Ocean Salinity\n",
      "License: other\n",
      "Temporal Extent: {'interval': [['2023-01-04T00:00:00Z', '2023-12-27T00:00:00Z']]}\n",
      "Spatial Extent (bbox): [[-180.0, -88.59375, 180.0, 88.59375], [-180.0, -88.59375, 180.0, 88.59375]]\n",
      "-----------------------------------------------\n",
      "Description: ## Ocean Salinity\n",
      "\n",
      "This indicator shows the sea surface salinity globally acquired by the ESA Earth Explorer [Soil Moisture and Ocean Salinity (SMOS) mission](https://earth.esa.int/eogateway/missions/smos/description). Ocean currents are driven by temperature and salinity variations in the seawater and Understanding ocean salinity's annual and inter-annual variability are crucial in understanding the role of the ocean in the climate system. Ocean circulation is mainly driven by the water and heat flux through the atmosphere-ocean interface, but salinity is also fundamental in determining ocean density and hence thermohaline circulation. \n",
      "\n",
      "This dataset is provided by the **Euro Data Cube**'s [SMOS Level-2C Datacube Service](https://collections.eurodatacube.com/smos-datacube/readme.html) offered by Brockmann Consult. The SMOS data cube service is implemented using the [xcube-smos datastore](https://github.com/xcube-dev/xcube-smos), which is available with the permissive MIT license.   \n",
      "\n",
      "### Dataset description\n",
      "-  Data is acquired by the sensor onboard SMOS, the [Microwave Imaging Radiometer with Aperture Synthesis (MIRAS)](https://earth.esa.int/eogateway/instruments/miras). MIRAS creates images of radiation emitted in the microwave L-band (1.4 GHz), by measuring changes in the salinity of seawater by observing variations in the natural microwave emission coming up off the surface of the ocean.\n",
      "-  The Level 2 Ocean Salinity (OS) product comprises sea surface salinity measurements geo-located in an equal-area (grid system ISEA 4H9).\n",
      "-  Spatial resolution: ~40 km (varies due to the SMOS interferometric imaging technique)\n",
      "\n",
      "### Applications\n",
      "Ocean salinity can be used for various applications, including ocean circulation, climate monitoring and water management.\n",
      "\n",
      "### Read more\n",
      "\n",
      "* [SMOS L1 and L2 Science data](https://earth.esa.int/eogateway/catalog/smos-science-products)\n",
      "* [SMOS Datacube Service - Euro Data Cube](https://collections.eurodatacube.com/smos-datacube/)\n",
      "* [xcube SMOS Python Package](https://xcube-dev.github.io/xcube-smos/)\n",
      "* [Notebooks for xcube SMOS store](https://github.com/xcube-dev/xcube-smos/tree/main/notebooks)\n",
      "\n"
     ]
    }
   ],
   "source": [
    "indicator = next(ind for ind in indicators if ind.id == \"smos_ocean_salinity\") \n",
    "# Print basic metadata\n",
    "print(f\"Title: {indicator.title}\")\n",
    "print(f\"License: {indicator.license}\")\n",
    "print(f\"Temporal Extent: {indicator.extent.temporal.to_dict()}\")\n",
    "print(f\"Spatial Extent (bbox): {indicator.extent.spatial.bboxes}\")\n",
    "print(\"-----------------------------------------------\")\n",
    "print(f\"Description: {indicator.description}\")"
   ]
  },
  {
   "cell_type": "markdown",
   "id": "d1c8f539",
   "metadata": {},
   "source": [
    "## Step 4: Navigating the Indicator and Dataset Hierarchy\n",
    "So far, we've explored the **indicator STAC Collection** `smos_ocean_salinity` as explained in the **Step 1**.\n",
    "\n",
    "To access the actual data items on a **subcollection STAC Collection** we now need to look at its **child collections**, which contain the STAC Items and assets.\n",
    "\n",
    "In this step, we identify and load those child collections so we can continue our exploration at the data level.\n",
    "\n",
    "In our case, the indicator has just one collection - itself so it looks easy."
   ]
  },
  {
   "cell_type": "code",
   "execution_count": 4,
   "id": "165dab3e",
   "metadata": {},
   "outputs": [
    {
     "name": "stdout",
     "output_type": "stream",
     "text": [
      "1 child collections found under 'smos_ocean_salinity':\n",
      "- smos_ocean_salinity: SMOS Ocean Salinity\n"
     ]
    }
   ],
   "source": [
    "# Get child links that are STAC collections\n",
    "child_collections = []\n",
    "for link in indicator.get_links(\"child\"):\n",
    "    if link.rel == \"child\":\n",
    "        child_collection = link.resolve_stac_object().target\n",
    "        child_collections.append(child_collection)\n",
    "\n",
    "# Show child collection IDs and titles\n",
    "print(f\"{len(child_collections)} child collections found under 'smos_ocean_salinity':\")\n",
    "for col in child_collections:\n",
    "    print(f\"- {col.id}: {col.title}\")"
   ]
  },
  {
   "cell_type": "markdown",
   "id": "4856fe0c",
   "metadata": {},
   "source": [
    "## Step 5: Accessing and Browsing STAC Items via GeoParquet\n",
    "\n",
    "In eodashboard, each child collection under an indicator may reference a bulk listing of STAC Items using a **GeoParquet** file for performance reasons during the catalog creation.\n",
    "This file acts as a storage for the STAC Items associated with that dataset and can be efficiently read and queried.\n",
    "\n",
    "We identify this asset by checking for an **Asset** with a `roles` array containing `\"collection-mirror\"` which is eodash specific way of distinction of the GeoParquet.\n",
    "\n",
    "Once found, we load it and use `pyarrow.parquet` to load the GeoParquet file and `stac_geoparquet` to convert it back to STAC Item structure and display their contents.\n",
    "\n",
    "This enables fast, local-style exploration of all STAC items in the dataset, including geometry, timestamp, and links to assets like XYZ tiles or statistics endpoints."
   ]
  },
  {
   "cell_type": "code",
   "execution_count": 5,
   "id": "5410a0a8",
   "metadata": {},
   "outputs": [
    {
     "name": "stdout",
     "output_type": "stream",
     "text": [
      "Reading remote GeoParquet from: https://ESA-eodashboards.github.io/eodashboard-catalog/trilateral/smos_ocean_salinity/smos_ocean_salinity/items.parquet\n",
      "In total 52 items were retrieved.\n",
      "Submission 52 items were retrieved.\n",
      "-------------------------------------\n",
      "Datetime: 2023-01-04T00:00:00.000000Z\n",
      "BBox: [-180.0, -88.59375, 180.0, 88.59375]\n",
      "Number of service links: 1\n"
     ]
    }
   ],
   "source": [
    "import requests\n",
    "import pyarrow.parquet as pq\n",
    "import io\n",
    "import stac_geoparquet\n",
    "\n",
    "geoparquet_asset = None\n",
    "for key, asset in child_collection.assets.items():\n",
    "    # specific way how eodash labels the asset with a geoparquet of items\n",
    "    if \"collection-mirror\" in asset.roles:\n",
    "        geoparquet_asset = asset\n",
    "        break\n",
    "\n",
    "if geoparquet_asset is None:\n",
    "    raise ValueError(\"No asset with role 'collection-mirror' found in the child collection.\")\n",
    "# eodash catalog links the asset href with relative path, we need to get absolute to retrieve it\n",
    "parquet_url = geoparquet_asset.get_absolute_href()\n",
    "print(f\"Reading remote GeoParquet from: {parquet_url}\")\n",
    "\n",
    "response = requests.get(parquet_url)\n",
    "if response.status_code != 200:\n",
    "    print(f\"Failed to download parquet file from {parquet_url}\")\n",
    "# Read the table with pyarrow\n",
    "table = pq.read_table(io.BytesIO(response.content))\n",
    "\n",
    "# Convert to a list of STAC dictionaries\n",
    "items = list(stac_geoparquet.arrow.stac_table_to_items(table))\n",
    "print(f\"In total {len(items)} items were retrieved.\")\n",
    "print(f\"Submission {len(items)} items were retrieved.\")\n",
    "# show example of metadata of one item\n",
    "item = items[0]\n",
    "print(\"-------------------------------------\")\n",
    "print(f\"Datetime: {item['properties'].get('datetime')}\")\n",
    "print(f\"BBox: {item['bbox']}\")\n",
    "print(f\"Number of service links: {len(item['links'])}\")\n"
   ]
  },
  {
   "cell_type": "markdown",
   "id": "5c48ddd6",
   "metadata": {},
   "source": [
    "## Step 6. Visualize Linked XYZ Tile Layer\n",
    "\n",
    "For each item, eodash links the suggested rendering of the visualization layer, which we can display using `folium` on the map.\n",
    "\n",
    "We selected the first Item containing data for 1.4.2023 and add the tile layer with a eox cloudless background.."
   ]
  },
  {
   "cell_type": "code",
   "execution_count": 6,
   "id": "f18a06ce",
   "metadata": {},
   "outputs": [
    {
     "name": "stdout",
     "output_type": "stream",
     "text": [
      "Actual link is {'href': 'https://api.earthsystemdatalab.net/api/tiles/smos-os/SSS_corr/{z}/{y}/{x}?crs=EPSG:3857&time=2023-01-04T00:00:00Z&vmin=0&vmax=50&cbar=jet', 'rel': 'xyz', 'title': 'xcube tiles', 'type': 'image/png'}\n"
     ]
    },
    {
     "data": {
      "text/html": [
       "<div style=\"width:100%;\"><div style=\"position:relative;width:100%;height:0;padding-bottom:60%;\"><span style=\"color:#565656\">Make this Notebook Trusted to load map: File -> Trust Notebook</span><iframe srcdoc=\"&lt;!DOCTYPE html&gt;\n",
       "&lt;html&gt;\n",
       "&lt;head&gt;\n",
       "    \n",
       "    &lt;meta http-equiv=&quot;content-type&quot; content=&quot;text/html; charset=UTF-8&quot; /&gt;\n",
       "    &lt;script src=&quot;https://cdn.jsdelivr.net/npm/leaflet@1.9.3/dist/leaflet.js&quot;&gt;&lt;/script&gt;\n",
       "    &lt;script src=&quot;https://code.jquery.com/jquery-3.7.1.min.js&quot;&gt;&lt;/script&gt;\n",
       "    &lt;script src=&quot;https://cdn.jsdelivr.net/npm/bootstrap@5.2.2/dist/js/bootstrap.bundle.min.js&quot;&gt;&lt;/script&gt;\n",
       "    &lt;script src=&quot;https://cdnjs.cloudflare.com/ajax/libs/Leaflet.awesome-markers/2.0.2/leaflet.awesome-markers.js&quot;&gt;&lt;/script&gt;\n",
       "    &lt;link rel=&quot;stylesheet&quot; href=&quot;https://cdn.jsdelivr.net/npm/leaflet@1.9.3/dist/leaflet.css&quot;/&gt;\n",
       "    &lt;link rel=&quot;stylesheet&quot; href=&quot;https://cdn.jsdelivr.net/npm/bootstrap@5.2.2/dist/css/bootstrap.min.css&quot;/&gt;\n",
       "    &lt;link rel=&quot;stylesheet&quot; href=&quot;https://netdna.bootstrapcdn.com/bootstrap/3.0.0/css/bootstrap-glyphicons.css&quot;/&gt;\n",
       "    &lt;link rel=&quot;stylesheet&quot; href=&quot;https://cdn.jsdelivr.net/npm/@fortawesome/fontawesome-free@6.2.0/css/all.min.css&quot;/&gt;\n",
       "    &lt;link rel=&quot;stylesheet&quot; href=&quot;https://cdnjs.cloudflare.com/ajax/libs/Leaflet.awesome-markers/2.0.2/leaflet.awesome-markers.css&quot;/&gt;\n",
       "    &lt;link rel=&quot;stylesheet&quot; href=&quot;https://cdn.jsdelivr.net/gh/python-visualization/folium/folium/templates/leaflet.awesome.rotate.min.css&quot;/&gt;\n",
       "    \n",
       "            &lt;meta name=&quot;viewport&quot; content=&quot;width=device-width,\n",
       "                initial-scale=1.0, maximum-scale=1.0, user-scalable=no&quot; /&gt;\n",
       "            &lt;style&gt;\n",
       "                #map_a26eabbe1a83bd64022fbca20c853cf0 {\n",
       "                    position: relative;\n",
       "                    width: 100.0%;\n",
       "                    height: 100.0%;\n",
       "                    left: 0.0%;\n",
       "                    top: 0.0%;\n",
       "                }\n",
       "                .leaflet-container { font-size: 1rem; }\n",
       "            &lt;/style&gt;\n",
       "\n",
       "            &lt;style&gt;html, body {\n",
       "                width: 100%;\n",
       "                height: 100%;\n",
       "                margin: 0;\n",
       "                padding: 0;\n",
       "            }\n",
       "            &lt;/style&gt;\n",
       "\n",
       "            &lt;style&gt;#map {\n",
       "                position:absolute;\n",
       "                top:0;\n",
       "                bottom:0;\n",
       "                right:0;\n",
       "                left:0;\n",
       "                }\n",
       "            &lt;/style&gt;\n",
       "\n",
       "            &lt;script&gt;\n",
       "                L_NO_TOUCH = false;\n",
       "                L_DISABLE_3D = false;\n",
       "            &lt;/script&gt;\n",
       "\n",
       "        \n",
       "&lt;/head&gt;\n",
       "&lt;body&gt;\n",
       "    \n",
       "    \n",
       "            &lt;div class=&quot;folium-map&quot; id=&quot;map_a26eabbe1a83bd64022fbca20c853cf0&quot; &gt;&lt;/div&gt;\n",
       "        \n",
       "&lt;/body&gt;\n",
       "&lt;script&gt;\n",
       "    \n",
       "    \n",
       "            var map_a26eabbe1a83bd64022fbca20c853cf0 = L.map(\n",
       "                &quot;map_a26eabbe1a83bd64022fbca20c853cf0&quot;,\n",
       "                {\n",
       "                    center: [45.0, 10.0],\n",
       "                    crs: L.CRS.EPSG3857,\n",
       "                    ...{\n",
       "  &quot;zoom&quot;: 4,\n",
       "  &quot;zoomControl&quot;: true,\n",
       "  &quot;preferCanvas&quot;: false,\n",
       "}\n",
       "\n",
       "                }\n",
       "            );\n",
       "\n",
       "            \n",
       "\n",
       "        \n",
       "    \n",
       "            var tile_layer_40e61b0b1ef261965f21a673d12e7044 = L.tileLayer(\n",
       "                &quot;https://api.earthsystemdatalab.net/api/tiles/smos-os/SSS_corr/{z}/{y}/{x}?crs=EPSG:3857\\u0026time=2023-01-04T00:00:00Z\\u0026vmin=0\\u0026vmax=50\\u0026cbar=jet&quot;,\n",
       "                {\n",
       "  &quot;minZoom&quot;: 0,\n",
       "  &quot;maxZoom&quot;: 18,\n",
       "  &quot;maxNativeZoom&quot;: 18,\n",
       "  &quot;noWrap&quot;: false,\n",
       "  &quot;attribution&quot;: &quot;Rendering of SMOS datacube provided by xcube-server operated by Brockmann Consult GmbH&quot;,\n",
       "  &quot;subdomains&quot;: &quot;abc&quot;,\n",
       "  &quot;detectRetina&quot;: false,\n",
       "  &quot;tms&quot;: false,\n",
       "  &quot;opacity&quot;: 1,\n",
       "}\n",
       "\n",
       "            );\n",
       "        \n",
       "    \n",
       "            tile_layer_40e61b0b1ef261965f21a673d12e7044.addTo(map_a26eabbe1a83bd64022fbca20c853cf0);\n",
       "        \n",
       "    \n",
       "            var tile_layer_c99752973ac84b7941ee846fcef27e68 = L.tileLayer(\n",
       "                &quot;https://tiles.maps.eox.at/wmts/1.0.0/s2cloudless-2024_3857/default/GoogleMapsCompatible/{z}/{y}/{x}.jpg&quot;,\n",
       "                {\n",
       "  &quot;minZoom&quot;: 0,\n",
       "  &quot;maxZoom&quot;: 18,\n",
       "  &quot;maxNativeZoom&quot;: 18,\n",
       "  &quot;noWrap&quot;: false,\n",
       "  &quot;attribution&quot;: &quot;\\u003ca href=\\&quot;https://maps.eox.at\\&quot;\\u003eOverlay\\u003c/a\\u003e { Data \\u0026copy; \\u003ca href=\\&quot;http://www.openstreetmap.org/copyright\\&quot;\\u003eOpenStreetMap\\u003c/a\\u003e contributors, Rendering \\u0026copy; \\u003ca href=\\&quot;https://eox.at\\&quot;\\u003eEOX\\u003c/a\\u003e and \\u003ca href=\\&quot;https://github.com/mapserver/basemaps\\&quot;\\u003eMapServer\\u003c/a\\u003e }&quot;,\n",
       "  &quot;subdomains&quot;: &quot;abc&quot;,\n",
       "  &quot;detectRetina&quot;: false,\n",
       "  &quot;tms&quot;: false,\n",
       "  &quot;opacity&quot;: 1,\n",
       "}\n",
       "\n",
       "            );\n",
       "        \n",
       "    \n",
       "            tile_layer_c99752973ac84b7941ee846fcef27e68.addTo(map_a26eabbe1a83bd64022fbca20c853cf0);\n",
       "        \n",
       "    \n",
       "            var layer_control_e17e273b4763687b4674382cbf46aeac_layers = {\n",
       "                base_layers : {\n",
       "                    &quot;EOxCloudless 2024&quot; : tile_layer_c99752973ac84b7941ee846fcef27e68,\n",
       "                },\n",
       "                overlays :  {\n",
       "                    &quot;xcube tiles&quot; : tile_layer_40e61b0b1ef261965f21a673d12e7044,\n",
       "                },\n",
       "            };\n",
       "            let layer_control_e17e273b4763687b4674382cbf46aeac = L.control.layers(\n",
       "                layer_control_e17e273b4763687b4674382cbf46aeac_layers.base_layers,\n",
       "                layer_control_e17e273b4763687b4674382cbf46aeac_layers.overlays,\n",
       "                {\n",
       "  &quot;position&quot;: &quot;topright&quot;,\n",
       "  &quot;collapsed&quot;: true,\n",
       "  &quot;autoZIndex&quot;: true,\n",
       "}\n",
       "            ).addTo(map_a26eabbe1a83bd64022fbca20c853cf0);\n",
       "\n",
       "        \n",
       "&lt;/script&gt;\n",
       "&lt;/html&gt;\" style=\"position:absolute;width:100%;height:100%;left:0;top:0;border:none !important;\" allowfullscreen webkitallowfullscreen mozallowfullscreen></iframe></div></div>"
      ],
      "text/plain": [
       "<folium.folium.Map at 0x7e80a46a3380>"
      ]
     },
     "execution_count": 6,
     "metadata": {},
     "output_type": "execute_result"
    }
   ],
   "source": [
    "import folium\n",
    "\n",
    "# Find the xyz tile link for 1.4.2023\n",
    "xyz_link = next((l for l in item[\"links\"] if l[\"rel\"] == \"xyz\"), None)\n",
    "print(f\"Actual link is {xyz_link}\")\n",
    "m = folium.Map(location=[45, 10], zoom_start=4, tiles=None)\n",
    "if xyz_link:\n",
    "    folium.TileLayer(\n",
    "        tiles=xyz_link[\"href\"],\n",
    "        attr='Rendering of SMOS datacube provided by xcube-server operated by Brockmann Consult GmbH',\n",
    "        name=xyz_link.get(\"title\", \"Tile Layer\"),\n",
    "        overlay=True,\n",
    "        control=True\n",
    "    ).add_to(m)\n",
    "\n",
    "# Add EOxCloudless layer\n",
    "folium.TileLayer(\n",
    "    tiles=\"https://tiles.maps.eox.at/wmts/1.0.0/s2cloudless-2024_3857/default/GoogleMapsCompatible/{z}/{y}/{x}.jpg\",\n",
    "    attr='<a href=\"https://maps.eox.at\">Overlay</a> { Data &copy; <a href=\"http://www.openstreetmap.org/copyright\">OpenStreetMap</a> contributors, Rendering &copy; <a href=\"https://eox.at\">EOX</a> and <a href=\"https://github.com/mapserver/basemaps\">MapServer</a> }',\n",
    "    name=\"EOxCloudless 2024\",\n",
    "    overlay=False,\n",
    "    control=True\n",
    ").add_to(m)\n",
    "\n",
    "folium.LayerControl().add_to(m)\n",
    "m"
   ]
  },
  {
   "cell_type": "markdown",
   "id": "c2dc697a",
   "metadata": {},
   "source": [
    "## Step 7. Create the legend for the provided layer\n",
    "\n",
    "When viewing geospatial datasets, especially those using color mapped imagery such as the SMOS ocean salinity layer, the colors themselves have no meaning without a reference.\n",
    "\n",
    "In our case, the SMOS layer visualization uses the jet colormap scaled from 0 to 50 as seen in the XYZ link from metadata, which corresponds to sea surface salinity in parts per 1000 (ppt).\n",
    "\n",
    "Including a legend ensures that viewers can correctly interpret the scientific meaning behind the visual patterns."
   ]
  },
  {
   "cell_type": "code",
   "execution_count": 7,
   "id": "c7469eb2",
   "metadata": {},
   "outputs": [
    {
     "data": {
      "image/png": "[encoded data removed]",
      "text/plain": [
       "<Figure size 600x100 with 1 Axes>"
      ]
     },
     "metadata": {},
     "output_type": "display_data"
    }
   ],
   "source": [
    "\n",
    "import matplotlib.pyplot as plt\n",
    "\n",
    "fig, ax = plt.subplots(figsize=(6, 1))\n",
    "fig.subplots_adjust(bottom=0.5)\n",
    "\n",
    "# Create a colorbar image from the \"jet\" colormap\n",
    "cmap = plt.get_cmap('jet')\n",
    "norm = plt.Normalize(vmin=0, vmax=50)\n",
    "\n",
    "cb = plt.colorbar(\n",
    "    plt.cm.ScalarMappable(norm=norm, cmap=cmap),\n",
    "    cax=ax,\n",
    "    orientation='horizontal'\n",
    ")\n",
    "\n",
    "cb.set_label(\"Sea Surface Salinity (ppt)\")\n",
    "plt.show()"
   ]
  },
  {
   "cell_type": "markdown",
   "id": "c2e72d74",
   "metadata": {},
   "source": [
    "## Step 8. Fetching and Plotting Time Series Statistics\n",
    "\n",
    "In this step, we access the statistics service linked from the indicator level STAC collection.\n",
    "We sent a POST request with a specified geographic polygon to retrieve median values of the satellite data over time.\n",
    "The response provides a time series which we then visualized using `Matplotlib`.\n",
    "\n",
    "To ensure the date labels on the x-axis are readable and well-formatted, we converted the time strings to datetime objects and used Matplotlib’s date locators and formatters."
   ]
  },
  {
   "cell_type": "code",
   "execution_count": 8,
   "id": "e2539564",
   "metadata": {},
   "outputs": [
    {
     "name": "stdout",
     "output_type": "stream",
     "text": [
      "Statistics link https://api.earthsystemdatalab.net/api/timeseries/smos-os/SSS_corr?aggMethods=median\n"
     ]
    },
    {
     "data": {
      "image/png": "[encoded data removed]",
      "text/plain": [
       "<Figure size 1000x500 with 1 Axes>"
      ]
     },
     "metadata": {},
     "output_type": "display_data"
    }
   ],
   "source": [
    "import requests\n",
    "import json\n",
    "import matplotlib.pyplot as plt\n",
    "from shapely.geometry import Polygon, mapping\n",
    "import matplotlib.dates as mdates\n",
    "from datetime import datetime\n",
    "\n",
    "# Find the statistics link in the indicator-level STAC Collection\n",
    "stats_link = next(\n",
    "    link for link in indicator.links\n",
    "    if link.rel == \"service\" and link.media_type == \"application/json\"\n",
    ")\n",
    "print(f\"Statistics link {stats_link.target}\")\n",
    "# Prepare the polygon geometry (example: small box in the Mediterranean sea south of France)\n",
    "polygon_geom = Polygon([\n",
    "    (4.35, 40.55),\n",
    "    (4.35, 42.35),\n",
    "    (7.2, 42.35),\n",
    "    (7.2, 40.55),\n",
    "    (4.35, 40.55)\n",
    "])\n",
    "\n",
    "geometry_geojson = mapping(polygon_geom)\n",
    "\n",
    "# Load POST body template from linked JSON file and fill {{{geometry}}}\n",
    "body_url = stats_link.extra_fields[\"body\"]\n",
    "body_template_str = requests.get(body_url).text\n",
    "# Replace the placeholder with the actual JSON object text\n",
    "body_filled_str = body_template_str.replace(\n",
    "    \"{{{polygon}}}\",\n",
    "    json.dumps(geometry_geojson)\n",
    ")\n",
    "\n",
    "# Now parse into a Python dict\n",
    "body_filled = json.loads(body_filled_str)\n",
    "\n",
    "# Send the POST request\n",
    "response = requests.post(stats_link.target, json=body_filled)\n",
    "response.raise_for_status()\n",
    "data = response.json()\n",
    "\n",
    "# Extract times and median values\n",
    "times = [entry[\"time\"] for entry in data[\"result\"]]\n",
    "# Convert to datetime\n",
    "times_dt = [datetime.fromisoformat(t.replace(\"Z\", \"+00:00\")) for t in times]\n",
    "medians = [entry[\"median\"] for entry in data[\"result\"]]\n",
    "\n",
    "# Plot as a time series\n",
    "fig, ax = plt.subplots(figsize=(10, 5))\n",
    "ax.plot(times_dt, medians, marker=\"o\")\n",
    "\n",
    "ax.set_title(\"SMOS Ocean Salinity Median Values\")\n",
    "ax.set_xlabel(\"Time\")\n",
    "ax.set_ylabel(\"Median Value Salinity (ppt)\")\n",
    "\n",
    "# Format the x-axis dates\n",
    "ax.xaxis.set_major_locator(mdates.MonthLocator(interval=1))  # one tick per month\n",
    "ax.xaxis.set_major_formatter(mdates.DateFormatter('%Y-%m'))\n",
    "\n",
    "plt.xticks(rotation=45, ha=\"right\")\n",
    "plt.tight_layout()\n",
    "plt.show()"
   ]
  }
 ],
 "metadata": {
  "kernelspec": {
   "display_name": "eodashboard-stac-conda-forge",
   "language": "python",
   "name": "python3"
  },
  "language_info": {
   "codemirror_mode": {
    "name": "ipython",
    "version": 3
   },
   "file_extension": ".py",
   "mimetype": "text/x-python",
   "name": "python",
   "nbconvert_exporter": "python",
   "pygments_lexer": "ipython3",
   "version": "3.13.5"
  }
 },
 "nbformat": 4,
 "nbformat_minor": 5
}
